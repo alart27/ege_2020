{
 "cells": [
  {
   "cell_type": "markdown",
   "metadata": {},
   "source": [
    "### Задача о потоке пар чисел.\n",
    "Даны N пар чисел. Из каждой паре берется по твари и подсчитываются суммы такого рода. Необходимо \n",
    "* найти все возможные суммы\n",
    "* найти максимальную сумму, не делящуюся на 5, или вывести -1 при отсутствии таковой\n",
    "* организовать перебор и найти оптимальный алгоритм "
   ]
  },
  {
   "cell_type": "markdown",
   "metadata": {},
   "source": [
    "#### Перебор с помощью перебора битовых масок всех подмножеств"
   ]
  },
  {
   "cell_type": "code",
   "execution_count": 1,
   "metadata": {},
   "outputs": [],
   "source": [
    "# создадим _генератор_ всех возможных подмножеств множества n элементов:\n",
    "# [True, False, True] -> Значит, первый и третий элемент принадлежат подмножеству\n",
    "# в простом случае, можно генератор заменить на функцию, возвращающую список списков\n",
    "\n",
    "def subset_indecies(n):\n",
    "    \"\"\" Генерирует последовательность из списков вида [1, 0, 0, 1, 1 ...]\n",
    "        Всего таких списков 2^n, каждый отвечает одному подмножеству из n элементов:\n",
    "            принадлежит ли i элемент полного множества данноому подмножеству.\n",
    "    \"\"\"\n",
    "    all_subset_idecies = []\n",
    "    for mask in range(1 << n):\n",
    "        # bool(expr) превратит 0 в False, остальные числа в True\n",
    "        # int(bool(expr)) превращает нули в нули, все остальное в 1\n",
    "        all_subset_idecies.append([int(bool((1 << i) & mask)) for i in range(n)])\n",
    "    return all_subset_idecies\n",
    "\n",
    "def get_all_sums_by_mask(pairs):\n",
    "    summs = []\n",
    "    for indecies in subset_indecies(len(pairs)):\n",
    "        \n",
    "        # для справки, _можно понимать_ действие zip как \n",
    "        # zip([1,2,3], [a, b, c]) -> [(1, a), (2, b), (3, c)]\n",
    "        # например,\n",
    "        # indecies = [1, 0, 0, 1]\n",
    "        # pairs = [[1,2], [3,4], [5,6], [7,8]]\n",
    "        # >>> choosed_elements = [2, 3, 5, 8]\n",
    "        \n",
    "        choosed_elements = [pair[int(i)] for i, pair in zip(indecies, pairs)]\n",
    "        summs.append((sum(choosed_elements), ''.join(str(i) for i in indecies)))\n",
    "    \n",
    "    return summs\n",
    "\n",
    "\n",
    "        \n",
    "        \n",
    "        "
   ]
  },
  {
   "cell_type": "code",
   "execution_count": 2,
   "metadata": {},
   "outputs": [
    {
     "data": {
      "text/plain": [
       "[(15, '000'),\n",
       " (20, '100'),\n",
       " (13, '010'),\n",
       " (18, '110'),\n",
       " (20, '001'),\n",
       " (25, '101'),\n",
       " (18, '011'),\n",
       " (23, '111')]"
      ]
     },
     "execution_count": 2,
     "metadata": {},
     "output_type": "execute_result"
    }
   ],
   "source": [
    "pairs = [[6, 11], [4, 2], [5, 10]]\n",
    "\n",
    "get_all_sums_by_mask(pairs)"
   ]
  },
  {
   "cell_type": "markdown",
   "metadata": {},
   "source": [
    "#### Перебор с помощью древовидной рекурсии\n",
    "\n"
   ]
  },
  {
   "cell_type": "code",
   "execution_count": 3,
   "metadata": {},
   "outputs": [],
   "source": [
    "pairs = [[6, 11], [4, 2], [5, 10]]"
   ]
  },
  {
   "cell_type": "code",
   "execution_count": 4,
   "metadata": {},
   "outputs": [],
   "source": [
    "def get_all_sums_recursive(pairs):\n",
    "    sums = []\n",
    "    def helper(level, acc, path):\n",
    "        if level == len(pairs):\n",
    "            sums.append((acc, path))\n",
    "        else:\n",
    "            helper(level + 1, acc + pairs[level][0], path + '0')\n",
    "            helper(level + 1, acc + pairs[level][1], path + '1')\n",
    "    helper(0, 0, '')\n",
    "    return sums"
   ]
  },
  {
   "cell_type": "code",
   "execution_count": 5,
   "metadata": {},
   "outputs": [
    {
     "data": {
      "text/plain": [
       "[(15, '000'),\n",
       " (20, '001'),\n",
       " (13, '010'),\n",
       " (18, '011'),\n",
       " (20, '100'),\n",
       " (25, '101'),\n",
       " (18, '110'),\n",
       " (23, '111')]"
      ]
     },
     "execution_count": 5,
     "metadata": {},
     "output_type": "execute_result"
    }
   ],
   "source": [
    "get_all_sums_recursive(pairs)"
   ]
  },
  {
   "cell_type": "markdown",
   "metadata": {},
   "source": [
    "Объединим эти функции перебора в решении, которое может использовать любую из них (по умолчанию используя второй вариант):"
   ]
  },
  {
   "cell_type": "code",
   "execution_count": 6,
   "metadata": {},
   "outputs": [],
   "source": [
    "def bf_solution(pairs, sums_generator_func=get_all_sums_recursive):\n",
    "    return max([s for s in sums_generator_func(pairs) if s[0] % 5 != 0], default=[-1, \"\"])"
   ]
  },
  {
   "cell_type": "code",
   "execution_count": 7,
   "metadata": {},
   "outputs": [
    {
     "name": "stdout",
     "output_type": "stream",
     "text": [
      "(23, '111')\n",
      "(23, '111')\n"
     ]
    }
   ],
   "source": [
    "print(bf_solution(pairs))  # recursive by default\n",
    "print(bf_solution(pairs, sums_generator_func=get_all_sums_by_mask))"
   ]
  },
  {
   "cell_type": "markdown",
   "metadata": {},
   "source": [
    "Попробуем для большего количества пар:"
   ]
  },
  {
   "cell_type": "code",
   "execution_count": 8,
   "metadata": {},
   "outputs": [],
   "source": [
    "pairs_6 = [[1,2], [3,4], [2,6], [11,3], [5, 9], [2, 8]]"
   ]
  },
  {
   "cell_type": "code",
   "execution_count": 9,
   "metadata": {},
   "outputs": [
    {
     "data": {
      "text/plain": [
       "[(24, '000000'),\n",
       " (30, '000001'),\n",
       " (28, '000010'),\n",
       " (34, '000011'),\n",
       " (16, '000100'),\n",
       " (22, '000101'),\n",
       " (20, '000110'),\n",
       " (26, '000111'),\n",
       " (28, '001000'),\n",
       " (34, '001001'),\n",
       " (32, '001010'),\n",
       " (38, '001011'),\n",
       " (20, '001100'),\n",
       " (26, '001101'),\n",
       " (24, '001110'),\n",
       " (30, '001111'),\n",
       " (25, '010000'),\n",
       " (31, '010001'),\n",
       " (29, '010010'),\n",
       " (35, '010011'),\n",
       " (17, '010100'),\n",
       " (23, '010101'),\n",
       " (21, '010110'),\n",
       " (27, '010111'),\n",
       " (29, '011000'),\n",
       " (35, '011001'),\n",
       " (33, '011010'),\n",
       " (39, '011011'),\n",
       " (21, '011100'),\n",
       " (27, '011101'),\n",
       " (25, '011110'),\n",
       " (31, '011111'),\n",
       " (25, '100000'),\n",
       " (31, '100001'),\n",
       " (29, '100010'),\n",
       " (35, '100011'),\n",
       " (17, '100100'),\n",
       " (23, '100101'),\n",
       " (21, '100110'),\n",
       " (27, '100111'),\n",
       " (29, '101000'),\n",
       " (35, '101001'),\n",
       " (33, '101010'),\n",
       " (39, '101011'),\n",
       " (21, '101100'),\n",
       " (27, '101101'),\n",
       " (25, '101110'),\n",
       " (31, '101111'),\n",
       " (26, '110000'),\n",
       " (32, '110001'),\n",
       " (30, '110010'),\n",
       " (36, '110011'),\n",
       " (18, '110100'),\n",
       " (24, '110101'),\n",
       " (22, '110110'),\n",
       " (28, '110111'),\n",
       " (30, '111000'),\n",
       " (36, '111001'),\n",
       " (34, '111010'),\n",
       " (40, '111011'),\n",
       " (22, '111100'),\n",
       " (28, '111101'),\n",
       " (26, '111110'),\n",
       " (32, '111111')]"
      ]
     },
     "execution_count": 9,
     "metadata": {},
     "output_type": "execute_result"
    }
   ],
   "source": [
    "get_all_sums_recursive(pairs_6)"
   ]
  },
  {
   "cell_type": "code",
   "execution_count": 10,
   "metadata": {},
   "outputs": [
    {
     "data": {
      "text/plain": [
       "(39, '101011')"
      ]
     },
     "execution_count": 10,
     "metadata": {},
     "output_type": "execute_result"
    }
   ],
   "source": [
    "bf_solution(pairs_6)"
   ]
  },
  {
   "cell_type": "markdown",
   "metadata": {},
   "source": [
    "#### Оптимальное решение\n",
    "\n",
    "* Временн**а**я сложность: O(n)\n",
    "* Расход памяти: O(1)\n",
    "\n",
    "\"Жадный\" алгоритм:\n",
    "\n",
    "Выбирая в каждой паре максимальное число, получим, очевидно, максимально возможную сумму.\n",
    "\n",
    "Например, дан список пар:\n",
    "```\n",
    "3 11\n",
    "4 2\n",
    "2 10\n",
    "```\n",
    "\n",
    "Максимальная сумма 11 + 4 + 10 = 25. Но она предательски делится на 5 :( Что же делать?\n",
    "\n",
    "Попробуем найти _замену_ одному из чисел в максимальной сумме - его пару. Очевидно, что если остатки от деления на 5 в паре одинаковы, то менять смысла нет, сумма все равно будет делиться на 5. Поэтому менять нужно только в том случае, если в паре числа имеют _разные остатки от деления на 5_. Но какое же выбрать? Попробуем быть \"жадными\".\n",
    "\n",
    "*Первая гипотеза*: выберем максимальное из вторых чисел. Тогда менять нужно первую пару. 11 садится на скамейку, 3 выходит на площадку. И команда тут же проигрывает :((((\n",
    "\n",
    "3 + 4 + 10 = 17, на 5 не делится, да. Но есть ведь сумма и побольше: 11 + 2 + 10 = 22. Внимательно вглядываясь в эти числа, находим верное решение:\n",
    "\n",
    "*Вторая гипотеза*: выберем такое из подходящих по остатку, что наша сумма уменьшится слабее всего, т.е. второе число _с наименьшей разностью с первым_. Тогда как раз и получится команда-победитель!\n",
    "\n",
    "\n",
    "##### Доказательство алгоритма\n",
    "\n",
    "Наши рассуждения красивы и очень правдоподобны, а простейшие ручные эксперименты на небольших наборах данных не смогли опровергнуть наш алгоритм. Именно так: не доказали, а лишь не смогли опровергнуть, что, правда, даёт нам повод для оптимизма в поисках *доказательства*.\n",
    "\n",
    "Предположим, что мы несколько по-иному выбирали числа из пар и нашли сумму, которая не делится на 5, при этом больше полученной по нашему алгоритму. Тогда от максимальной суммы она отличается выбором замен минимум в 2х парах, так как если ограничить замены от максимальной суммы только одной парой, то наш алгоритм очевидно верен.\n",
    "Но тогда тоже сумма разностей во всех замененных парах будет больше одной и минимальной разности. Выходит, что эта другая сумма никак не может быть больше нашей.\n"
   ]
  },
  {
   "cell_type": "code",
   "execution_count": 11,
   "metadata": {},
   "outputs": [],
   "source": [
    "# эта реализация не рассказывает о выборе элементов пар. это остаётся в качестве упражнения для падаванов)\n",
    "\n",
    "def optimal(pairs):\n",
    "    substitution_fst = -1\n",
    "    substitution_snd = -1\n",
    "    summa = 0\n",
    "    \n",
    "    for a, b in pairs:\n",
    "        a, b = max(a, b), min(a, b) # парное присваивание, особенность python\n",
    "        summa += a\n",
    "        if a % 5 != b % 5:\n",
    "            if (a - b < substitution_fst - substitution_snd) or substitution_fst == -1:\n",
    "                substitution_fst, substitution_snd = a, b\n",
    "    \n",
    "    if summa % 5 == 0:\n",
    "        if substitution_fst != -1:\n",
    "            summa -= substitution_fst\n",
    "            summa += substitution_snd\n",
    "        else:\n",
    "            summa = -1\n",
    "    \n",
    "    return summa\n",
    "    "
   ]
  },
  {
   "cell_type": "code",
   "execution_count": 12,
   "metadata": {},
   "outputs": [
    {
     "data": {
      "text/plain": [
       "2"
      ]
     },
     "execution_count": 12,
     "metadata": {},
     "output_type": "execute_result"
    }
   ],
   "source": [
    "optimal([[1, 2]])"
   ]
  },
  {
   "cell_type": "code",
   "execution_count": 13,
   "metadata": {},
   "outputs": [
    {
     "data": {
      "text/plain": [
       "23"
      ]
     },
     "execution_count": 13,
     "metadata": {},
     "output_type": "execute_result"
    }
   ],
   "source": [
    "optimal(pairs)"
   ]
  },
  {
   "cell_type": "code",
   "execution_count": 14,
   "metadata": {},
   "outputs": [
    {
     "data": {
      "text/plain": [
       "39"
      ]
     },
     "execution_count": 14,
     "metadata": {},
     "output_type": "execute_result"
    }
   ],
   "source": [
    "optimal(pairs_6)"
   ]
  },
  {
   "cell_type": "markdown",
   "metadata": {},
   "source": [
    "### Test\n",
    "\n",
    "Протестируем равенство ответов переборного и оптимально алгоритма:"
   ]
  },
  {
   "cell_type": "code",
   "execution_count": 16,
   "metadata": {},
   "outputs": [
    {
     "name": "stdout",
     "output_type": "stream",
     "text": [
      "TEST PASSED\n"
     ]
    }
   ],
   "source": [
    "import random\n",
    "\n",
    "data = [\n",
    "    [[1,1], [1,1], [1,1], [1,1], [1,1]],\n",
    "    [[1,2], [3,4], [5,6]],\n",
    "    [[1,2], [4,9], [11, 10]],\n",
    "    [[3, 8], [12, 2]],\n",
    "]\n",
    "\n",
    "def makepairs():\n",
    "    n = random.randint(5, 13)  # нельзя брать слишком большие списки для перебора, сложность O(2^n)\n",
    "    return [[random.randint(1, 1000), random.randint(1, 1000)] for i in range(n)]\n",
    "\n",
    "data.extend([makepairs() for i in range(100)])\n",
    "    \n",
    "    \n",
    "\n",
    "for ds in data:\n",
    "    ans_bf = bf_solution(ds)[0]\n",
    "    ans_opt = optimal(ds)\n",
    "    if ans_bf != ans_opt:\n",
    "        print(\"FAILED:\", ds, ans_bf, ans_opt)\n",
    "        break\n",
    "else:\n",
    "    print(\"TEST PASSED\")"
   ]
  }
 ],
 "metadata": {
  "kernelspec": {
   "display_name": "Python 3",
   "language": "python",
   "name": "python3"
  },
  "language_info": {
   "codemirror_mode": {
    "name": "ipython",
    "version": 3
   },
   "file_extension": ".py",
   "mimetype": "text/x-python",
   "name": "python",
   "nbconvert_exporter": "python",
   "pygments_lexer": "ipython3",
   "version": "3.7.3"
  }
 },
 "nbformat": 4,
 "nbformat_minor": 2
}
